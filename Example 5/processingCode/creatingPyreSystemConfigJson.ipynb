{
 "cells": [
  {
   "cell_type": "code",
   "execution_count": 1,
   "metadata": {},
   "outputs": [],
   "source": [
    "import geopandas as gpd\n",
    "import json "
   ]
  },
  {
   "cell_type": "code",
   "execution_count": 2,
   "metadata": {},
   "outputs": [
    {
     "data": {
      "text/plain": [
       "{'START_TIME_STEP': 0,\n",
       " 'MAX_TIME_STEP': 3650,\n",
       " 'DISASTER_TIME_STEP': 1,\n",
       " 'DS4_REPAIR_DURATION': 240,\n",
       " 'MAX_REPAIR_CREW_DEMAND_PER_BUILDING': 50,\n",
       " 'MAX_RESIDENTS_PER_BUILDING': 2000,\n",
       " 'HOUSING_RESOURCES': ['Shelter'],\n",
       " 'REPAIR_CREW_DEMAND_PER_SQFT': {'DS1': 5400,\n",
       "  'DS2': 5400,\n",
       "  'DS3': 2700,\n",
       "  'DS4': 2700},\n",
       " 'DEFAULT_REPAIR_DURATION_DICT': {'Lognormal': {'Median': 0,\n",
       "   'Dispersion': 0.3}}}"
      ]
     },
     "execution_count": 2,
     "metadata": {},
     "output_type": "execute_result"
    }
   ],
   "source": [
    "# Constants, will come from inputRWHALE.json\n",
    "Constants = json.loads(\n",
    "    ''' {\n",
    "        \"START_TIME_STEP\": 0,\n",
    "        \"MAX_TIME_STEP\": 3650,\n",
    "        \"DISASTER_TIME_STEP\": 1,\n",
    "        \"DS4_REPAIR_DURATION\": 240,\n",
    "        \"MAX_REPAIR_CREW_DEMAND_PER_BUILDING\": 50,\n",
    "        \"MAX_RESIDENTS_PER_BUILDING\": 2000,\n",
    "        \"HOUSING_RESOURCES\": [\"Shelter\"],\n",
    "        \"REPAIR_CREW_DEMAND_PER_SQFT\": {\n",
    "            \"DS1\": 5400,\n",
    "            \"DS2\": 5400,\n",
    "            \"DS3\": 2700,\n",
    "            \"DS4\": 2700\n",
    "        },\n",
    "        \"DEFAULT_REPAIR_DURATION_DICT\": {\n",
    "            \"Lognormal\": {\n",
    "                \"Median\": 0,\n",
    "                \"Dispersion\": 0.3\n",
    "            }\n",
    "        }\n",
    "    }'''\n",
    ")\n",
    "Constants"
   ]
  },
  {
   "cell_type": "code",
   "execution_count": 3,
   "metadata": {},
   "outputs": [
    {
     "data": {
      "text/html": [
       "<div>\n",
       "<style scoped>\n",
       "    .dataframe tbody tr th:only-of-type {\n",
       "        vertical-align: middle;\n",
       "    }\n",
       "\n",
       "    .dataframe tbody tr th {\n",
       "        vertical-align: top;\n",
       "    }\n",
       "\n",
       "    .dataframe thead th {\n",
       "        text-align: right;\n",
       "    }\n",
       "</style>\n",
       "<table border=\"1\" class=\"dataframe\">\n",
       "  <thead>\n",
       "    <tr style=\"text-align: right;\">\n",
       "      <th></th>\n",
       "      <th>OBJECTID</th>\n",
       "      <th>DIST_NAME</th>\n",
       "      <th>DISTRICT_ID</th>\n",
       "      <th>SHAPE_Length</th>\n",
       "      <th>SHAPE_Area</th>\n",
       "      <th>geometry</th>\n",
       "    </tr>\n",
       "  </thead>\n",
       "  <tbody>\n",
       "    <tr>\n",
       "      <th>0</th>\n",
       "      <td>122</td>\n",
       "      <td>CENSUS TRACT #4271</td>\n",
       "      <td>327</td>\n",
       "      <td>0.050782</td>\n",
       "      <td>0.000119</td>\n",
       "      <td>MULTIPOLYGON (((-122.22365 37.75693, -122.2235...</td>\n",
       "    </tr>\n",
       "    <tr>\n",
       "      <th>1</th>\n",
       "      <td>123</td>\n",
       "      <td>CENSUS TRACT #4272</td>\n",
       "      <td>328</td>\n",
       "      <td>0.081200</td>\n",
       "      <td>0.000207</td>\n",
       "      <td>MULTIPOLYGON (((-122.24483 37.77906, -122.2435...</td>\n",
       "    </tr>\n",
       "  </tbody>\n",
       "</table>\n",
       "</div>"
      ],
      "text/plain": [
       "   OBJECTID           DIST_NAME  DISTRICT_ID  SHAPE_Length  SHAPE_Area  \\\n",
       "0       122  CENSUS TRACT #4271          327      0.050782    0.000119   \n",
       "1       123  CENSUS TRACT #4272          328      0.081200    0.000207   \n",
       "\n",
       "                                            geometry  \n",
       "0  MULTIPOLYGON (((-122.22365 37.75693, -122.2235...  \n",
       "1  MULTIPOLYGON (((-122.24483 37.77906, -122.2435...  "
      ]
     },
     "execution_count": 3,
     "metadata": {},
     "output_type": "execute_result"
    }
   ],
   "source": [
    "localityBoundaryFile = \"../Census_Tract_Boundaries_AI.geojson\"\n",
    "boundaryFile = localityBoundaryFile\n",
    "boundaryGDF = gpd.read_file(boundaryFile)\n",
    "boundaryGDF.head(2)"
   ]
  },
  {
   "cell_type": "code",
   "execution_count": 6,
   "metadata": {},
   "outputs": [
    {
     "data": {
      "text/plain": [
       "(array('d', [-122.23103896598545]), array('d', [37.764663304632116]))"
      ]
     },
     "execution_count": 6,
     "metadata": {},
     "output_type": "execute_result"
    }
   ],
   "source": [
    "boundaryGDF.loc[0,\"geometry\"].centroid.xy"
   ]
  },
  {
   "cell_type": "code",
   "execution_count": 10,
   "metadata": {},
   "outputs": [],
   "source": [
    "# Define contents\n",
    "localityBoundaryFile = \"../Census_Tract_Boundaries_AI.geojson\"\n",
    "componentsFile = \"./Example 5/tmp.SimCenter/Results/\"\n",
    "boundaryFile = localityBoundaryFile\n",
    "boundaryGDF = gpd.read_file(boundaryFile)\n",
    "Content = dict()\n",
    "for row_ind in boundaryGDF.index:\n",
    "    locality_i = dict()\n",
    "    components = dict()\n",
    "    geom_i = boundaryGDF.loc[row_ind, \"geometry\"]\n",
    "    loc_id = str(row_ind)\n",
    "    components.update({\"Geometry\": geom_i.wkt})\n",
    "    components.update({\"RecoveryResourceSuppliers\":[\"EmergencyResponseCenter\"]})\n",
    "    components.update({\"ComponentsInfoFolder\":componentsFile})\n",
    "    components.update({\"AreaPerPerson\":541})\n",
    "    locality_i.update({\"ComponentsInLocality\":components})\n",
    "    Content.update({loc_id: locality_i})\n"
   ]
  },
  {
   "cell_type": "code",
   "execution_count": 12,
   "metadata": {},
   "outputs": [
    {
     "data": {
      "text/plain": [
       "{'Type': 'R2DDamageInput', 'Parameters': {'ScenarioID': [1]}}"
      ]
     },
     "execution_count": 12,
     "metadata": {},
     "output_type": "execute_result"
    }
   ],
   "source": [
    "# Define DamageInput come from inputRWHALE and the scenarioID should be a list\n",
    "# a sample of scenarios are selected from DL realizations to estimate the mean\n",
    "# and std of the recovery process. Assuming normal, 20-30 realizations may be needed\n",
    "DamageInput = json.loads(\n",
    "    '''{\"Type\": \"R2DDamageInput\",\n",
    "        \"Parameters\": {\n",
    "            \"ScenarioID\": [1]\n",
    "        }}'''\n",
    ")\n",
    "DamageInput"
   ]
  },
  {
   "cell_type": "code",
   "execution_count": 14,
   "metadata": {},
   "outputs": [
    {
     "data": {
      "text/plain": [
       "{'SupplierOnlyDistributionPriority': {},\n",
       " 'RandomPriority': {'Seed': 42.0, 'DemandType': ['RecoveryDemand']}}"
      ]
     },
     "execution_count": 14,
     "metadata": {},
     "output_type": "execute_result"
    }
   ],
   "source": [
    "# Define DistributionModels and DistributionPriorities\n",
    "# This list are built in and users can choose from\n",
    "# Currently only have UtilityDistributionModel. Maybe have ResidualDemandModel\n",
    "# in the future\n",
    "# Created a DistributionPriorities to define default priorities\n",
    "DistributionModelTypes = dict({\"UtilityDistributionModel\":\"UtilityDistributionModel\"})\n",
    "DistributionPriorities = dict()\n",
    "SupplierOnlyDistributionPriorityPara = json.loads(\n",
    "    '''{\n",
    "    }'''\n",
    ")\n",
    "RandomPriorityPara = json.loads(\n",
    "    '''{\n",
    "        \"Seed\": 42.0,\n",
    "        \"DemandType\": [\n",
    "            \"RecoveryDemand\"\n",
    "        ]\n",
    "        }'''\n",
    ")\n",
    "DistributionPriorities.update({\n",
    "    \"SupplierOnlyDistributionPriority\":SupplierOnlyDistributionPriorityPara,\n",
    "    \"RandomPriority\":RandomPriorityPara\n",
    "})\n",
    "DistributionPriorities\n"
   ]
  },
  {
   "cell_type": "code",
   "execution_count": 52,
   "metadata": {},
   "outputs": [],
   "source": [
    "# Create Resources. Will come from inputRWHALE.json\n",
    "Resources = json.loads(\n",
    "    '''{\n",
    "    \"Shelter\": {\n",
    "            \"Group\": \"Utilities\",\n",
    "            \"DistributionModel\": {\n",
    "                \"Type\":\"UtilityDistributionModel\",\n",
    "                \"Parameters\":{\n",
    "                    \"DistributionPriority\": {\n",
    "                        \"Type\": \"SupplierOnlyDistributionPriority\"\n",
    "                    }\n",
    "                }\n",
    "            }\n",
    "        },\n",
    "    \"FirstResponderEngineer\": {\n",
    "            \"Group\": \"RecoveryResources\",\n",
    "            \"DistributionModel\": {\n",
    "                \"Type\": \"UtilityDistributionModel\",\n",
    "                \"Parameters\": {\n",
    "                    \"DistributionPriority\": {\n",
    "                        \"Type\": \"RandomPriority\"\n",
    "                    }\n",
    "                }\n",
    "            }\n",
    "        },\n",
    "     \"SeniorEngineer\": {\n",
    "            \"Group\": \"RecoveryResources\",\n",
    "            \"DistributionModel\": {\n",
    "                \"Type\": \"UtilityDistributionModel\",\n",
    "                \"Parameters\": {\n",
    "                    \"DistributionPriority\": {\n",
    "                        \"Type\": \"RandomPriority\"\n",
    "                    }\n",
    "                }\n",
    "            }\n",
    "        },\n",
    "    \"Contractor\": {\n",
    "            \"Group\": \"RecoveryResources\",\n",
    "            \"DistributionModel\": {\n",
    "                \"Type\": \"UtilityDistributionModel\",\n",
    "                \"Parameters\": {\n",
    "                    \"DistributionPriority\": {\n",
    "                        \"Type\": \"RandomPriority\"\n",
    "                    }\n",
    "                }\n",
    "            }\n",
    "        },\n",
    "    \"Money\": {\n",
    "            \"Group\": \"RecoveryResources\",\n",
    "            \"DistributionModel\": {\n",
    "                \"Type\": \"UtilityDistributionModel\",\n",
    "                \"Parameters\": {\n",
    "                    \"DistributionPriority\": {\n",
    "                        \"Type\": \"RandomPriority\"\n",
    "                    }\n",
    "                }\n",
    "            }\n",
    "        },\n",
    "    \"PlanCheckEngineeringTeam\": {\n",
    "            \"Group\": \"RecoveryResources\",\n",
    "            \"DistributionModel\": {\n",
    "                \"Type\": \"UtilityDistributionModel\",\n",
    "                \"Parameters\": {\n",
    "                    \"DistributionPriority\": {\n",
    "                        \"Type\": \"RandomPriority\"\n",
    "                    }\n",
    "                }\n",
    "            }\n",
    "        },\n",
    "    \"SitePreparationCrew\": {\n",
    "            \"Group\": \"RecoveryResources\",\n",
    "            \"DistributionModel\": {\n",
    "                \"Type\": \"UtilityDistributionModel\",\n",
    "                \"Parameters\": {\n",
    "                    \"DistributionPriority\": {\n",
    "                        \"Type\": \"RandomPriority\"\n",
    "                    }\n",
    "                }\n",
    "            }\n",
    "        },\n",
    "    \"CleanUpCrew\": {\n",
    "            \"Group\": \"RecoveryResources\",\n",
    "            \"DistributionModel\": {\n",
    "                \"Type\": \"UtilityDistributionModel\",\n",
    "                \"Parameters\": {\n",
    "                    \"DistributionPriority\": {\n",
    "                        \"Type\": \"RandomPriority\"\n",
    "                    }\n",
    "                }\n",
    "            }\n",
    "        },\n",
    "    \"EngineeringDesignTeam\": {\n",
    "            \"Group\": \"RecoveryResources\",\n",
    "            \"DistributionModel\": {\n",
    "                \"Type\": \"UtilityDistributionModel\",\n",
    "                \"Parameters\": {\n",
    "                    \"DistributionPriority\": {\n",
    "                        \"Type\": \"RandomPriority\"\n",
    "                    }\n",
    "                }\n",
    "            }\n",
    "        },\n",
    "    \"DemolitionCrew\": {\n",
    "            \"Group\": \"RecoveryResources\",\n",
    "            \"DistributionModel\": {\n",
    "                \"Type\": \"UtilityDistributionModel\",\n",
    "                \"Parameters\": {\n",
    "                    \"DistributionPriority\": {\n",
    "                        \"Type\": \"RandomPriority\"\n",
    "                    }\n",
    "                }\n",
    "            }\n",
    "        },\n",
    "    \"RepairCrew\": {\n",
    "            \"Group\": \"RecoveryResources\",\n",
    "            \"DistributionModel\": {\n",
    "                \"Type\": \"UtilityDistributionModel\",\n",
    "                \"Parameters\": {\n",
    "                    \"DistributionPriority\": {\n",
    "                        \"Type\": \"RandomPriority\"\n",
    "                    }\n",
    "                }\n",
    "            }\n",
    "        }\n",
    "    }'''\n",
    ")\n",
    "\n"
   ]
  },
  {
   "cell_type": "code",
   "execution_count": 64,
   "metadata": {},
   "outputs": [
    {
     "data": {
      "text/plain": [
       "[{'Type': 'ReCoDeSResilienceCalculator',\n",
       "  'Parameters': {'Scope': 'All',\n",
       "   'Resources': ['Shelter', 'FirstResponderEngineer', 'RepairCrew', 'Money']}},\n",
       " {'Type': 'NISTGoalsResilienceCalculator',\n",
       "  'Parameters': [{'Resource': 'Shelter',\n",
       "    'Scope': 'All',\n",
       "    'DesiredFunctionalityLevel': 0.95}]}]"
      ]
     },
     "execution_count": 64,
     "metadata": {},
     "output_type": "execute_result"
    }
   ],
   "source": [
    "# Define ResilienceCalculator should come from inputRWHALE\n",
    "ResilienceCalculator = json.loads(\n",
    "    '''[\n",
    "        {\"Type\": \"ReCoDeSResilienceCalculator\",\n",
    "            \"Parameters\": {\n",
    "                \"Scope\": \"All\",\n",
    "                \"Resources\": [\n",
    "                    \"Shelter\",\n",
    "                    \"FirstResponderEngineer\",\n",
    "                    \"RepairCrew\",\n",
    "                    \"Money\"\n",
    "                ]\n",
    "            }\n",
    "        },\n",
    "        {\n",
    "            \"Type\": \"NISTGoalsResilienceCalculator\",\n",
    "            \"Parameters\": [\n",
    "                {\n",
    "                    \"Resource\": \"Shelter\",\n",
    "                    \"Scope\": \"All\",\n",
    "                    \"DesiredFunctionalityLevel\": 0.95\n",
    "                }\n",
    "            ]\n",
    "        }\n",
    "    ]\n",
    "    '''\n",
    ")\n",
    "ResilienceCalculator\n"
   ]
  }
 ],
 "metadata": {
  "kernelspec": {
   "display_name": "Python 3",
   "language": "python",
   "name": "python3"
  },
  "language_info": {
   "codemirror_mode": {
    "name": "ipython",
    "version": 3
   },
   "file_extension": ".py",
   "mimetype": "text/x-python",
   "name": "python",
   "nbconvert_exporter": "python",
   "pygments_lexer": "ipython3",
   "version": "3.9.13"
  }
 },
 "nbformat": 4,
 "nbformat_minor": 2
}
